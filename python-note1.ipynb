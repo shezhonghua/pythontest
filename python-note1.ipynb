{
 "cells": [
  {
   "cell_type": "code",
   "execution_count": 71,
   "metadata": {},
   "outputs": [
    {
     "name": "stdout",
     "output_type": "stream",
     "text": [
      "Populating the interactive namespace from numpy and matplotlib\n"
     ]
    },
    {
     "data": {
      "text/plain": [
       "[<matplotlib.lines.Line2D at 0x9dca188>]"
      ]
     },
     "execution_count": 71,
     "metadata": {},
     "output_type": "execute_result"
    },
    {
     "data": {
      "image/png": "[encoded data removed]",
      "text/plain": [
       "<Figure size 432x288 with 1 Axes>"
      ]
     },
     "metadata": {
      "needs_background": "light"
     },
     "output_type": "display_data"
    }
   ],
   "source": [
    "%pylab inline\n",
    "\n",
    "plot(0,10, '*', markersize=10)"
   ]
  },
  {
   "cell_type": "markdown",
   "metadata": {},
   "source": [
    "plot()函数可以方便的画点。前两个参数分别是横、纵坐标。第三个参数为marker，常见的marker有'o','v','<','>','^','*'等。\n",
    "markersize可以不用指定，使用默认值。"
   ]
  },
  {
   "cell_type": "code",
   "execution_count": 72,
   "metadata": {},
   "outputs": [
    {
     "data": {
      "text/plain": [
       "[<matplotlib.lines.Line2D at 0x9e26888>]"
      ]
     },
     "execution_count": 72,
     "metadata": {},
     "output_type": "execute_result"
    },
    {
     "data": {
      "image/png": "[encoded data removed]",
      "text/plain": [
       "<Figure size 432x288 with 1 Axes>"
      ]
     },
     "metadata": {
      "needs_background": "light"
     },
     "output_type": "display_data"
    }
   ],
   "source": [
    "plot([0,1,0], [2,2,3], marker='*', markersize=10)"
   ]
  },
  {
   "cell_type": "markdown",
   "metadata": {},
   "source": [
    "plot()也可以用来画直线。第一个list中存储的是横坐标，第二个list中存储的是纵坐标，plot会把所有的点连成线。\n",
    "\n",
    "这样可读性比较低，一般采用两个list来表示。 x = [0, 1, 0]; y = [2, 2, 3]; plot(x, y); 画线时仍然可以使用marker和markersize两个参数。"
   ]
  },
  {
   "cell_type": "markdown",
   "metadata": {},
   "source": [
    "在python中数组常用list来表示，而list的功能比较弱，在很多场合需要引入比较强的数组包numpy。a = [1,2,3]; b = np.array(a); type(a); type(b);\n",
    "\n",
    "通过array我们可以更加直观的表示刚才的坐标数组。 a = [[0,2], [1,2], [0,3]]; b = np.array(a); plot(b[:,0], b[:,1]);\n"
   ]
  },
  {
   "cell_type": "code",
   "execution_count": 73,
   "metadata": {},
   "outputs": [
    {
     "name": "stdout",
     "output_type": "stream",
     "text": [
      "(3, 5)\n",
      "[[0. 0. 0. 0. 0.]\n",
      " [0. 0. 0. 0. 0.]\n",
      " [0. 0. 0. 0. 0.]]\n",
      "3\n",
      "5\n"
     ]
    }
   ],
   "source": [
    "a = zeros((3, 5))\n",
    "print(a.shape)\n",
    "print(a)\n",
    "print(len(a[:,0]))\n",
    "print(len(a[0,:]))"
   ]
  },
  {
   "cell_type": "markdown",
   "metadata": {},
   "source": [
    "在图像处理中，我们常用二维数组。数组的大小可由shape来指示。shape是一个tuple类型，用括号中的数字来表示。\n",
    "\n",
    "可用zeros快速初始化一个全为零的数组。\n"
   ]
  },
  {
   "cell_type": "code",
   "execution_count": 74,
   "metadata": {},
   "outputs": [
    {
     "name": "stdout",
     "output_type": "stream",
     "text": [
      "[[0. 1. 0. 0. 0.]\n",
      " [0. 0. 0. 0. 0.]\n",
      " [0. 0. 0. 0. 0.]]\n"
     ]
    },
    {
     "data": {
      "text/plain": [
       "array([0., 1., 0., 0., 0.])"
      ]
     },
     "execution_count": 74,
     "metadata": {},
     "output_type": "execute_result"
    }
   ],
   "source": [
    "a[0][1] = 1\n",
    "print(a)\n",
    "a[0]"
   ]
  },
  {
   "cell_type": "code",
   "execution_count": 96,
   "metadata": {},
   "outputs": [
    {
     "name": "stdout",
     "output_type": "stream",
     "text": [
      "[6. 4.]\n",
      "72.0\n"
     ]
    },
    {
     "data": {
      "image/png": "[encoded data removed]",
      "text/plain": [
       "<Figure size 432x288 with 1 Axes>"
      ]
     },
     "metadata": {
      "needs_background": "light"
     },
     "output_type": "display_data"
    }
   ],
   "source": [
    "plot(1,1,'o')\n",
    "grid('on')\n",
    "axis(True)\n",
    "s = a[0].figure.get_size_inches()\n",
    "print(s)\n",
    "dpi = mpl.rcParams['figure.dpi']\n",
    "print(dpi)"
   ]
  },
  {
   "cell_type": "markdown",
   "metadata": {},
   "source": [
    "grid()函数可以用来控制显示中的网格，参数有'on','off',True, False.\n",
    "\n",
    "axis()函数用来控制是否显示坐标，参数有'on','off',True, False.\n",
    "\n",
    "axis(), grid()都是在设置Axes的属性。Figure是高级的容器，相当于画夹。Axes is build in the Figure，相当于白纸。\n",
    "\n",
    "所有组成图像的元素：点、线、图形、图像、坐标轴，都包含在Figure中。"
   ]
  },
  {
   "cell_type": "markdown",
   "metadata": {},
   "source": [
    "有的python函数有返回值，有的没有返回值。可能返回类似int的简单类型，也可能是tuple，list等复合类型。\n",
    "\n",
    "plot()函数返回的就是list类型，list的元素为Line2D类型。\n",
    "\n",
    "通过get_size_inches()方法可以获得Figure的大小，配置参数中figure.dpi保存了像素密度。\n"
   ]
  },
  {
   "cell_type": "code",
   "execution_count": 100,
   "metadata": {},
   "outputs": [
    {
     "data": {
      "text/plain": [
       "(<Figure size 1000x120 with 1 Axes>,\n",
       " <matplotlib.axes._subplots.AxesSubplot at 0x9bfce48>)"
      ]
     },
     "execution_count": 100,
     "metadata": {},
     "output_type": "execute_result"
    },
    {
     "data": {
      "image/png": "[encoded data removed]",
      "text/plain": [
       "<Figure size 1000x120 with 1 Axes>"
      ]
     },
     "metadata": {
      "needs_background": "light"
     },
     "output_type": "display_data"
    }
   ],
   "source": [
    "figure_size = (1000/dpi, 120/dpi)\n",
    "subplots(figsize=figure_size)"
   ]
  },
  {
   "cell_type": "markdown",
   "metadata": {},
   "source": [
    "不带参数的subplot()函数可以创建一个默认的Figure。也可通过figsize参数指定Figure的大小，单位为inches。\n"
   ]
  },
  {
   "cell_type": "code",
   "execution_count": null,
   "metadata": {},
   "outputs": [],
   "source": []
  }
 ],
 "metadata": {
  "kernelspec": {
   "display_name": "Python 3",
   "language": "python",
   "name": "python3"
  },
  "language_info": {
   "codemirror_mode": {
    "name": "ipython",
    "version": 3
   },
   "file_extension": ".py",
   "mimetype": "text/x-python",
   "name": "python",
   "nbconvert_exporter": "python",
   "pygments_lexer": "ipython3",
   "version": "3.7.4"
  }
 },
 "nbformat": 4,
 "nbformat_minor": 2
}
