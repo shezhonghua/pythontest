{
 "cells": [
  {
   "cell_type": "markdown",
   "metadata": {},
   "source": [
    "长度为$N$的离散时间信号$x(n)$，取值范围为$0 \\leq n\\leq N-1$，其离散Fourier变化定义如下：\n",
    "$$ X(k) = \\sum_{n=0}^{N-1}x(n)e^{-j\\frac{2\\pi}{N}kn}$$\n",
    "\n",
    "其逆变换为：\n",
    "$$ x(n) = \\frac{1}{N}\\sum_{k=0}^{N-1}X(k)e^{j\\frac{2\\pi}{N}kn}$$\n",
    "\n",
    "令 $W = e^{-j\\frac{2\\pi}{N}}$，则：\n",
    "\n",
    "$$ X(k) = \\sum_{n=0}^{N-1}x(n)W^{kn}, x(n) = \\frac{1}{N}\\sum_{k=0}^{N-1}X(k)W^{-kn}$$\n",
    "\n",
    "假设N为4，推导计算方法。\n",
    "$$X(0) = \\sum_{n=0}^{3}x(n)W^{0 \\cdot n} = \\sum_{n=0}^{3}x(n) = x(0) + x(1) + x(2) + x(3)$$\n",
    "\n",
    "$$X(1) = \\sum_{n=0}^{3}x(n)W^{1 \\cdot n} = \\sum_{n=0}^{3}x(n)W^n = x(0) \\cdot W^0 + x(1)\\cdot W^1 + x(2)\\cdot W^2 + x(3)\\cdot W^3 = x(0) + x(1)\\cdot W^1 + x(2)\\cdot W^2 + x(3)\\cdot W^3$$\n",
    "\n",
    "$$X(2) = \\sum_{n=0}^{3}x(n)W^{2 \\cdot n} = \\sum_{n=0}^{3}x(n)W^{2n} = x(0) \\cdot W^0 + x(1)\\cdot W^2 + x(2)\\cdot W^4 + x(3)\\cdot W^6 = x(0) + x(1)\\cdot W^2 + x(2)\\cdot W^4 + x(3)\\cdot W^6$$\n",
    "\n",
    "$$X(3) = \\sum_{n=0}^{3}x(n)W^{3 \\cdot n} = \\sum_{n=0}^{3}x(n)W^{3n} = x(0) \\cdot W^0 + x(1)\\cdot W^3 + x(2)\\cdot W^6 + x(3)\\cdot W^9 = x(0) + x(1)\\cdot W^3 + x(2)\\cdot W^6 + x(3)\\cdot W^9$$\n",
    "\n",
    "把$x{n}与X(k)$均看成列向量，则以上计算可以由以下公式表示：\n",
    "$$\\begin{bmatrix}1& 1& 1& 1&\\\\\n",
    "1& W^1& W^2&  W^3&\\\\\n",
    "1& W^2& W^4&  W^6&\\\\\n",
    "1& W^3& W^6&  W^9&\\end{bmatrix}\n",
    "\\begin{bmatrix}x(0)\\\\x(1)\\\\x(2)\\\\x(3)\\end{bmatrix} = \n",
    "\\begin{bmatrix}X(0)\\\\X(1)\\\\X(2)\\\\X(3)\\end{bmatrix}\n",
    "$$\n",
    "\n",
    "设$ A = \\begin{bmatrix}1& 1& 1& 1&\\\\\n",
    "1& W^1& W^2&  W^3&\\\\\n",
    "1& W^2& W^4&  W^6&\\\\\n",
    "1& W^3& W^6&  W^9&\\end{bmatrix}$只要找到其逆矩阵$A^{-1}$，就可由$X(k)$回推$x(n)$。<br>\n",
    "按照Fourier变换逆变换的定义，我们定义矩阵$ B = \\begin{bmatrix}1& 1& 1& 1&\\\\\n",
    "1& W^{-1}& W^{-2}&  W^{-3}&\\\\\n",
    "1& W^{-2}& W^{-4}&  W^{-6}&\\\\\n",
    "1& W^{-3}& W^{-6}&  W^{-9}&\\end{bmatrix}$\n",
    "\n",
    "$ AB = \\begin{bmatrix}1& 1& 1& 1&\\\\\n",
    "1& W^1& W^2&  W^3&\\\\\n",
    "1& W^2& W^4&  W^6&\\\\\n",
    "1& W^3& W^6&  W^9&\\end{bmatrix} $\n",
    "$\\begin{bmatrix}1& 1& 1& 1&\\\\\n",
    "1& W^{-1}& W^{-2}&  W^{-3}&\\\\\n",
    "1& W^{-2}& W^{-4}&  W^{-6}&\\\\\n",
    "1& W^{-3}& W^{-6}&  W^{-9}&\\end{bmatrix} = $\n",
    "$\\begin{bmatrix}4& 0& 0& 0&\\\\\n",
    "0& 4& 0&  0&\\\\\n",
    "0& 0& 4&  0&\\\\\n",
    "0& 0& 0&  4&\\end{bmatrix} = $\n",
    "$4\\cdot\\begin{bmatrix}1& 0& 0& 0&\\\\\n",
    "0& 1& 0&  0&\\\\\n",
    "0& 0& 1&  0&\\\\\n",
    "0& 0& 0&  1&\\end{bmatrix} $\n",
    "\n",
    "也就是说 $A^{-1} = \\frac{1}{4} \\cdot B$\n",
    "$$\n",
    "\\begin{bmatrix}x(0)\\\\x(1)\\\\x(2)\\\\x(3)\\end{bmatrix} = \\frac{1}{4}\\cdot\n",
    "\\begin{bmatrix}1& 1& 1& 1&\\\\\n",
    "1& W^{-1}& W^{-2}&  W^{-3}&\\\\\n",
    "1& W^{-2}& W^{-4}&  W^{-6}&\\\\\n",
    "1& W^{-3}& W^{-6}&  W^{-9}&\\end{bmatrix}\n",
    "\\begin{bmatrix}X(0)\\\\X(1)\\\\X(2)\\\\X(3)\\end{bmatrix}\n",
    "$$"
   ]
  },
  {
   "cell_type": "code",
   "execution_count": null,
   "metadata": {},
   "outputs": [],
   "source": []
  },
  {
   "cell_type": "code",
   "execution_count": null,
   "metadata": {},
   "outputs": [],
   "source": []
  }
 ],
 "metadata": {
  "kernelspec": {
   "display_name": "Python 3",
   "language": "python",
   "name": "python3"
  },
  "language_info": {
   "codemirror_mode": {
    "name": "ipython",
    "version": 3
   },
   "file_extension": ".py",
   "mimetype": "text/x-python",
   "name": "python",
   "nbconvert_exporter": "python",
   "pygments_lexer": "ipython3",
   "version": "3.7.4"
  }
 },
 "nbformat": 4,
 "nbformat_minor": 2
}
